{
 "cells": [
  {
   "cell_type": "code",
   "execution_count": null,
   "metadata": {},
   "outputs": [],
   "source": [
    "from tensorflow.keras.models import load_model\n",
    "import numpy as np"
   ]
  },
  {
   "cell_type": "code",
   "execution_count": null,
   "metadata": {},
   "outputs": [],
   "source": [
    "maxlen = 69\n",
    "char_to_n = {'\\n': 1, ' ': 2, '!': 3, \"'\": 4, ',': 5, '-': 6, '?': 7, 'ٖ': 8, 'ँ': 9, 'ं': 10, 'अ': 11, 'आ': 12, 'इ': 13, \n",
    "             'ई': 14, 'उ': 15, 'ऊ': 16, 'ए': 17, 'ऐ': 18, 'ओ': 19, 'औ': 20, 'क': 21, 'ख': 22, 'ग': 23, 'घ': 24, 'च': 25, \n",
    "             'छ': 26, 'ज': 27, 'झ': 28, 'ट': 29, 'ठ': 30, 'ड': 31, 'ढ': 32, 'त': 33, 'थ': 34, 'द': 35, 'ध': 36, 'न': 37, \n",
    "             'प': 38, 'फ': 39, 'ब': 40, 'भ': 41, 'म': 42, 'य': 43, 'र': 44, 'ल': 45, 'व': 46, 'श': 47, 'ष': 48, 'स': 49, \n",
    "             'ह': 50, '़': 51, 'ा': 52, 'ि': 53, 'ी': 54, 'ु': 55, 'ू': 56, 'े': 57, 'ै': 58, 'ॉ': 59, 'ो': 60, 'ौ': 61, '्': 62,\n",
    "             'क़': 63, 'ख़': 64, 'ग़': 65, 'ज़': 66, 'ड़': 67, 'फ़': 68}"
   ]
  },
  {
   "cell_type": "code",
   "execution_count": null,
   "metadata": {},
   "outputs": [],
   "source": [
    "model = load_model('qaafiya_detector')"
   ]
  },
  {
   "cell_type": "code",
   "execution_count": null,
   "metadata": {},
   "outputs": [],
   "source": [
    "ghazal = (open('C:\\Shubh\\Study MAterial\\ml\\datasets\\poetry/test.txt',encoding = \"utf8\").read())\n",
    "lines = ghazal.split('\\n')\n",
    "lines = list(filter(None, lines))\n",
    "lines = [lin.strip() for lin in lines]"
   ]
  },
  {
   "cell_type": "code",
   "execution_count": null,
   "metadata": {},
   "outputs": [],
   "source": [
    "follow = np.array([np.array([[0]*(maxlen - len(lin)) + [char_to_n[char] for char in lin]]) for i,lin in enumerate(lines) if i%2 != 0])\n",
    "follow = follow.reshape((follow.shape[0],maxlen ))\n",
    "test = np.array([[0]*(maxlen - len(lines[0])) + [char_to_n[char] for char in lines[0]]] * len(follow))"
   ]
  },
  {
   "cell_type": "code",
   "execution_count": null,
   "metadata": {},
   "outputs": [],
   "source": [
    "pred = model.predict([follow,test])\n",
    "k = 0\n",
    "for ind,val in enumerate(pred):\n",
    "    if val < 0.5:\n",
    "        print(\"The ghazal doesn't follows the rules of urdu ghazal writing.\")\n",
    "        print(\"The problem firstly occurs in the line-\")\n",
    "        print(lines[ind*2+1])\n",
    "        k = 1\n",
    "        break\n",
    "if k == 0:\n",
    "    print(\"The ghazal follows the rules of urdu ghazal writing.\")"
   ]
  }
 ],
 "metadata": {
  "kernelspec": {
   "display_name": "Python 3",
   "language": "python",
   "name": "python3"
  },
  "language_info": {
   "codemirror_mode": {
    "name": "ipython",
    "version": 3
   },
   "file_extension": ".py",
   "mimetype": "text/x-python",
   "name": "python",
   "nbconvert_exporter": "python",
   "pygments_lexer": "ipython3",
   "version": "3.8.5"
  }
 },
 "nbformat": 4,
 "nbformat_minor": 4
}
